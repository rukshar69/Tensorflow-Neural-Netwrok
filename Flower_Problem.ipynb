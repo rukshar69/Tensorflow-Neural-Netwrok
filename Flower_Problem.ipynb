{
 "cells": [
  {
   "cell_type": "code",
   "execution_count": 1,
   "metadata": {},
   "outputs": [],
   "source": [
    "%matplotlib inline"
   ]
  },
  {
   "cell_type": "code",
   "execution_count": 3,
   "metadata": {},
   "outputs": [],
   "source": [
    "from matplotlib import pyplot as plt\n",
    "import numpy as np\n"
   ]
  },
  {
   "cell_type": "code",
   "execution_count": 6,
   "metadata": {},
   "outputs": [],
   "source": [
    "data = [[3,1.5,1],\n",
    "       [2,1,0],\n",
    "       [4,1.5,1],\n",
    "        [3,1,0],\n",
    "       [3.5,1,1],\n",
    "       [2,.5,0],\n",
    "       [5.5,1,1],\n",
    "       [1,1,0]]\n",
    "\n",
    "mystery_flower = [4.5, 1]\n"
   ]
  },
  {
   "cell_type": "code",
   "execution_count": 7,
   "metadata": {},
   "outputs": [],
   "source": [
    "#network\n",
    "\n",
    "#    o flower type\n",
    "#   / \\ w1,w2,b\n",
    "#  o   o length, width\n",
    "w1 = np.random.randn()\n",
    "w2 = np.random.randn()\n",
    "b = np.random.randn()"
   ]
  },
  {
   "cell_type": "code",
   "execution_count": 12,
   "metadata": {},
   "outputs": [],
   "source": [
    "def sigmoid(x):\n",
    "    return 1/(1+np.exp(-x))\n",
    "\n",
    "def sigmoid_p(x):\n",
    "    return sigmoid(x)*(1-sigmoid(x))"
   ]
  },
  {
   "cell_type": "code",
   "execution_count": 18,
   "metadata": {
    "scrolled": false
   },
   "outputs": [
    {
     "data": {
      "image/png": "[encoded data removed]",
      "text/plain": [
       "<matplotlib.figure.Figure at 0x264f2cfc9e8>"
      ]
     },
     "metadata": {},
     "output_type": "display_data"
    }
   ],
   "source": [
    "#scatter data\n",
    "plt.axis([0,6,0,6])\n",
    "plt.grid()\n",
    "for i in range(len(data)):\n",
    "    color = 'r'\n",
    "    if(point[2] == 0):\n",
    "        color = 'b'\n",
    "    point = data[i]\n",
    "    plt.scatter(point[0],point[1],c=color)"
   ]
  },
  {
   "cell_type": "code",
   "execution_count": 46,
   "metadata": {},
   "outputs": [
    {
     "data": {
      "text/plain": [
       "[<matplotlib.lines.Line2D at 0x264f2d1c668>]"
      ]
     },
     "execution_count": 46,
     "metadata": {},
     "output_type": "execute_result"
    },
    {
     "data": {
      "image/png": "[encoded data removed]",
      "text/plain": [
       "<matplotlib.figure.Figure at 0x264f2c86ac8>"
      ]
     },
     "metadata": {},
     "output_type": "display_data"
    }
   ],
   "source": [
    "#training loop\n",
    "learning_rate = .2\n",
    "costs=[]\n",
    "for i in range(50000):\n",
    "    ri  = np.random.randint(len(data))\n",
    "    point = data[ri]\n",
    "    z = point[0]*w1 + point[1]*w2 + b\n",
    "    h = sigmoid(z)\n",
    "    target = point[2]\n",
    "    cost = np.square(h - target)\n",
    "    \n",
    "    \n",
    "    \n",
    "    dcost_pred = 2*(h- target)\n",
    "    dpred_dz = sigmoid_p(z)\n",
    "    dz_dw1 = point[0]\n",
    "    dz_dw2 = point[1]\n",
    "    dz_db = 1\n",
    "    \n",
    "    dcost_dw1 = dcost_pred* dpred_dz* dz_dw1\n",
    "    dcost_dw2 = dcost_pred* dpred_dz* dz_dw2\n",
    "    dcost_db = dcost_pred* dpred_dz* dz_db\n",
    "    \n",
    "    w1 = w1 - learning_rate *dcost_dw1\n",
    "    w2 = w2 - learning_rate *dcost_dw2\n",
    "    b = b - learning_rate *dcost_db\n",
    "    \n",
    "    if( i % 100 == 0):\n",
    "        cost_sum = 0\n",
    "        for j in range(len(data)):\n",
    "            point = data[j]\n",
    "            z = point[0]*w1 + point[1]*w2 + b\n",
    "            h = sigmoid(z)\n",
    "            target = point[2]\n",
    "            cost_sum += np.square(h - target)\n",
    "        costs.append(cost_sum/len(data))\n",
    "plt.plot(costs)"
   ]
  },
  {
   "cell_type": "code",
   "execution_count": 47,
   "metadata": {},
   "outputs": [
    {
     "name": "stdout",
     "output_type": "stream",
     "text": [
      "[3, 1.5, 1]\n",
      "pred: 0.9430260400542321\n",
      "[2, 1, 0]\n",
      "pred: 9.46128804999254e-06\n",
      "[4, 1.5, 1]\n",
      "pred: 0.9999940576184952\n",
      "[3, 1, 0]\n",
      "pred: 0.08775197785716857\n",
      "[3.5, 1, 1]\n",
      "pred: 0.9065356286637033\n",
      "[2, 0.5, 0]\n",
      "pred: 5.498586406971826e-08\n",
      "[5.5, 1, 1]\n",
      "pred: 0.999999999002571\n",
      "[1, 1, 0]\n",
      "pred: 9.30603676207203e-10\n"
     ]
    }
   ],
   "source": [
    "for i in range(len(data)):\n",
    "    point = data[i]\n",
    "    print(point)\n",
    "    z = point[0]*w1 + point[1]*w2 + b\n",
    "    pred = sigmoid(z)\n",
    "    print(\"pred: {}\".format(pred))"
   ]
  },
  {
   "cell_type": "code",
   "execution_count": 48,
   "metadata": {},
   "outputs": [
    {
     "data": {
      "text/plain": [
       "0.99998985931720374"
      ]
     },
     "execution_count": 48,
     "metadata": {},
     "output_type": "execute_result"
    }
   ],
   "source": [
    "z = mystery_flower[0]*w1 + mystery_flower[1]*w2 + b\n",
    "pred = sigmoid(z)\n",
    "pred"
   ]
  },
  {
   "cell_type": "code",
   "execution_count": 49,
   "metadata": {},
   "outputs": [],
   "source": [
    "def which_flower(length, width):\n",
    "    z = length*w1 + width*w2 + b\n",
    "    pred = sigmoid(z)\n",
    "    print(pred)\n",
    "    if(pred<.5):\n",
    "        print(\"BLUE\")\n",
    "    else:\n",
    "        print(\"RED\")"
   ]
  },
  {
   "cell_type": "code",
   "execution_count": 52,
   "metadata": {},
   "outputs": [
    {
     "name": "stdout",
     "output_type": "stream",
     "text": [
      "9.77234229776e-13\n",
      "BLUE\n"
     ]
    }
   ],
   "source": [
    "which_flower(0,1.23)"
   ]
  },
  {
   "cell_type": "code",
   "execution_count": null,
   "metadata": {},
   "outputs": [],
   "source": []
  }
 ],
 "metadata": {
  "kernelspec": {
   "display_name": "Python 3",
   "language": "python",
   "name": "python3"
  },
  "language_info": {
   "codemirror_mode": {
    "name": "ipython",
    "version": 3
   },
   "file_extension": ".py",
   "mimetype": "text/x-python",
   "name": "python",
   "nbconvert_exporter": "python",
   "pygments_lexer": "ipython3",
   "version": "3.6.2"
  }
 },
 "nbformat": 4,
 "nbformat_minor": 2
}
